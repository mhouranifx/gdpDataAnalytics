pip install pandas numpy matplotlib seaborn statsmodels scikit-learn jupyter

import pandas as pd
import numpy as np
import matplotlib.pyplot as plt
import seaborn as sns

# Display plots inline (if using Jupyter Notebook)
%matplotlib inline


# Load the data (adjust the path if needed)
df = pd.read_csv("CensusData.csv")

# Quick overview of the data
print(df.head())
print(df.info())

df.describe()

print(df.isnull().sum())





df_long = pd.melt(df, id_vars=["Country", "Country Code", "Series", "Series Code"], 
                  var_name="Quarter", value_name="Value")
print(df_long.head())

plt.figure(figsize=(12, 6))
sns.lineplot(x="Quarter", y="Value", hue="Series", data=df_long)
plt.xticks(rotation=45)
plt.title("Time Series Trends by Series")
plt.show()

corr = df.select_dtypes(include=[np.number]).corr()
sns.heatmap(corr, annot=True, cmap="coolwarm")
plt.title("Correlation Matrix")
plt.show()




